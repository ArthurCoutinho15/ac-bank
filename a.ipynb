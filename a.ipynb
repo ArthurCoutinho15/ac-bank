{
 "cells": [
  {
   "cell_type": "code",
   "execution_count": 3,
   "metadata": {},
   "outputs": [],
   "source": [
    "import pandas as pd\n",
    "import requests\n",
    "import json"
   ]
  },
  {
   "cell_type": "code",
   "execution_count": null,
   "metadata": {},
   "outputs": [
    {
     "name": "stdout",
     "output_type": "stream",
     "text": [
      "200\n",
      "[{'id': 1, 'nome': 'Arthur', 'cpf': '14105356656', 'telefone': '31999999999', 'endereco': 'Rua Três Pontas', 'data_cadastro': '2025-02-25T23:31:57.277522-03:00'}]\n"
     ]
    }
   ],
   "source": [
    "response = requests.get('http://127.0.0.1:8000/clientes/')\n",
    "print(response.status_code)  # Exibe o código de status da resposta\n",
    "print(response.json())  # Exibe o conteúdo da resposta em formato JSON (se houver)\n"
   ]
  },
  {
   "cell_type": "code",
   "execution_count": null,
   "metadata": {},
   "outputs": [],
   "source": []
  }
 ],
 "metadata": {
  "kernelspec": {
   "display_name": "Python 3",
   "language": "python",
   "name": "python3"
  },
  "language_info": {
   "codemirror_mode": {
    "name": "ipython",
    "version": 3
   },
   "file_extension": ".py",
   "mimetype": "text/x-python",
   "name": "python",
   "nbconvert_exporter": "python",
   "pygments_lexer": "ipython3",
   "version": "3.12.0"
  }
 },
 "nbformat": 4,
 "nbformat_minor": 2
}
